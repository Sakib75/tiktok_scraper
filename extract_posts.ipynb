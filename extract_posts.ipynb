{
 "cells": [
  {
   "cell_type": "code",
   "execution_count": 1,
   "metadata": {},
   "outputs": [],
   "source": [
    "import json\n",
    "from pprint import pprint"
   ]
  },
  {
   "cell_type": "code",
   "execution_count": 3,
   "metadata": {},
   "outputs": [
    {
     "data": {
      "text/plain": [
       "[{'author_username': 'your_short_bro',\n",
       "  'video_url': 'https://www.tiktok.com/@your_short_bro/video/7297022921438973186',\n",
       "  'description': 'Best places to visit in Bangladesh #travel #tiktok #shorts #tour #placestovisit #viral #bangladesh #destination'},\n",
       " {'author_username': 'globalexporer7799',\n",
       "  'video_url': 'https://www.tiktok.com/@globalexporer7799/video/7223902334626057473',\n",
       "  'description': 'TOP 25 Best Places To Visit in The World #travel #traveltiktok #traveling #travelworld #worldtravel #worldtravelling #traveltips #traveltip #placestovisit #placestogo #thingstodo'},\n",
       " {'author_username': 'globalexporer7799',\n",
       "  'video_url': 'https://www.tiktok.com/@globalexporer7799/video/7308327357931212034',\n",
       "  'description': 'TOP 10 Best Places To Visit in Uganda #uganda #africa #thingstodoinuganda #thingstodouganda #ugandalife #ugandatravel #travel #traveling #travelbucketlist #travelvideo #travelvideos #traveltips #placestovisit #placestogo #thingstodo #ugandatiktok #ugandasecrets'},\n",
       " {'author_username': 'seekscape',\n",
       "  'video_url': 'https://www.tiktok.com/@seekscape/video/7388219285258145057',\n",
       "  'description': 'Top 10 Best Places to Visit in Switzerland 🇨🇭  🎥: @Marco Marques @Swissaround🇨🇭 @swisswoow  For educational purposes only 📚🌎 ##switzerland #switzerland🇨🇭 #switzerlandtourism #switzerlandnature #switzerlandtravel '},\n",
       " {'author_username': 'trip.com',\n",
       "  'video_url': 'https://www.tiktok.com/@trip.com/video/7171471638586838273',\n",
       "  'description': 'You have to add this lake on your bucket list 😍Cr: @sunny_rung @pikeitup07 #traveltiktok #bucketlist #destination #phillipines #heaven #fyp #lake '},\n",
       " {'author_username': 'backpackerjomblo_',\n",
       "  'video_url': 'https://www.tiktok.com/@backpackerjomblo_/video/7291165262596902149',\n",
       "  'description': 'Gara-gara sound ini jiwa travel ku jadi meronta-ronta 🍃 #backpackerjomblo '},\n",
       " {'author_username': 'i.wonderalot',\n",
       "  'video_url': 'https://www.tiktok.com/@i.wonderalot/video/7215367616431410475',\n",
       "  'description': 'Top 10 Vacations Spots You Must Visit in the World! ✈️ #fyp #iwonderalot #travel #vacation '},\n",
       " {'author_username': 'karenpaniaguavideos',\n",
       "  'video_url': 'https://www.tiktok.com/@karenpaniaguavideos/video/7379797664138906885',\n",
       "  'description': 'Visita Laguna Ricuricocha #travel #peru #parati '},\n",
       " {'author_username': 'ahmazing_places',\n",
       "  'video_url': 'https://www.tiktok.com/@ahmazing_places/video/7265667147848748290',\n",
       "  'description': 'Swiss towns = the most beautiful in the world 🥰  Switzerland is a mountainous Central European country, home to numerous lakes, villages and the high peaks of the Alps. Its cities contain medieval quarters, with landmarks like capital Bern’s Zytglogge clock tower and Lucerne’s wooden chapel bridge. The country is also known for its ski resorts and hiking trails. Banking and finance are key industries, and Swiss watches and chocolate are world renowned. #switzerland #swissalps #switzerland🇨🇭 #travel #nature #beautiful #beautifuldestinations #grindelwald #zermatt #uri #amazingplaces #europe #adventure #trending #explorepage #tiktok #viral #traveltiktok #switzerlandnature '},\n",
       " {'author_username': 'pghrtiara',\n",
       "  'video_url': 'https://www.tiktok.com/@pghrtiara/video/7334781010506386694',\n",
       "  'description': '20 places to go at Kuala Lumpur. Rekomendasi jalan jalan di kuala lumpur 5 hari 4 malam #malaysia #kualalumpurmalaysia #kualalumpurmalaysia🇲🇾 #traveltiktok #rekomendasi #placestovisit #placetogo #placetogokl #placetovisitkl '},\n",
       " {'author_username': 'umutdxb',\n",
       "  'video_url': 'https://www.tiktok.com/@umutdxb/video/7290908086619999495',\n",
       "  'description': 'Top 12 Places to visit in Khor Fakkan 🇦🇪📌 1. Al Suhub Rest Area 📌 2. khor fakkan  old souq📌 3. Al Rafisah Dam📌 4. Najd Al Maqsar Heritage Village📌 5. Shees Park📌 6. Al Rabi Hiking Trail📌 7. Khor fakkan heritage area📌 8. Wadi Shees📌 9. Khorfakkan Waterfalls📌 10. The Resistance Monument📌 11. Khor Fakkan Beach📌 12. Khorfakkan Amphitheatre📌 #khorfakkan #khorfkan #fujairah #uae🇦🇪 #uaehiddenspot '},\n",
       " {'author_username': 'ahmazing_places',\n",
       "  'video_url': 'https://www.tiktok.com/@ahmazing_places/video/7275949658684558610',\n",
       "  'description': '3 #beautiful locations you must visit in #spain 🥰  #seville  is the capital and largest city of the Spanish autonomous community of Andalusia and the province of Seville. It is situated on the lower reaches of the River Guadalquivir, in the southwest of the Iberian Peninsula. #iznajar The town, situated on a hill overlooking the great Iznajar reservoir on the Genil river, is a core of narrow streets, winding hill with whitewashed houses that seem to hang over the water, forming an image of great beauty and local color. The Castle, situated at the top, is the perfect item to complete this singular place #ronda Ronda is a mountaintop city in Spain’s Malaga province that’s set dramatically above a deep gorge. This gorge (El Tajo) separates the city’s circa-15th-century new town from its old town, dating to Moorish rule. Puente Nuevo, a stone bridge spanning the gorge, has a lookout offering views. New town’s Plaza de Toros, a legendary 18th-century bullring, is one of the city’s most recognizable landmarks. #spain #andalusia #travel #trending #viral #europe #traveltiktok #beautifuldestinations #amazingplaces '}]"
      ]
     },
     "execution_count": 3,
     "metadata": {},
     "output_type": "execute_result"
    }
   ],
   "source": [
    "import json\n",
    "json_data = open('sample.json').read()\n",
    "json_data = json.loads(json_data)\n",
    "\n",
    "def extrat_post_info(json_data):\n",
    "    posts = json_data['data']\n",
    "    all_post_data = []\n",
    "    for post in posts:\n",
    "        author_username = post['item']['author']['uniqueId']\n",
    "        post_id = post['item']['id']\n",
    "        video_url = f\"https://www.tiktok.com/@{author_username}/video/{post_id}\"\n",
    "        description = post['item']['desc']\n",
    "\n",
    "        all_post_data.append({\n",
    "            'author_username': author_username,\n",
    "            'video_url': video_url,\n",
    "            'description': description\n",
    "        })\n",
    "    return all_post_data\n",
    "extrat_post_info(json_data)\n",
    "\n",
    "    \n",
    "    "
   ]
  }
 ],
 "metadata": {
  "kernelspec": {
   "display_name": "venv",
   "language": "python",
   "name": "python3"
  },
  "language_info": {
   "codemirror_mode": {
    "name": "ipython",
    "version": 3
   },
   "file_extension": ".py",
   "mimetype": "text/x-python",
   "name": "python",
   "nbconvert_exporter": "python",
   "pygments_lexer": "ipython3",
   "version": "3.12.3"
  }
 },
 "nbformat": 4,
 "nbformat_minor": 2
}
